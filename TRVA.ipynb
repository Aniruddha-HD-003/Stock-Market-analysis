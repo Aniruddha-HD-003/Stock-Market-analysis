{
 "cells": [
  {
   "cell_type": "code",
   "execution_count": 1,
   "id": "0d067046-bbab-4926-840a-87cc036f55cd",
   "metadata": {},
   "outputs": [],
   "source": [
    "from tradingview_ta import TA_Handler, Interval, Exchange\n",
    "\n"
   ]
  },
  {
   "cell_type": "code",
   "execution_count": 2,
   "id": "b3114bc2-ee4a-454c-aa94-5fb4f4de301b",
   "metadata": {},
   "outputs": [
    {
     "name": "stdout",
     "output_type": "stream",
     "text": [
      "{'RECOMMENDATION': 'STRONG_BUY', 'BUY': 16, 'SELL': 1, 'NEUTRAL': 9}\n"
     ]
    }
   ],
   "source": [
    "nifty = TA_Handler(\n",
    "    symbol=\"IRCTC\",\n",
    "    screener=\"India\",\n",
    "    exchange=\"NSE\",\n",
    "    interval=Interval.INTERVAL_1_DAY\n",
    ")\n",
    "print(nifty.get_analysis().summary)"
   ]
  },
  {
   "cell_type": "code",
   "execution_count": 4,
   "id": "eb44dbf9-b4d0-4716-9340-aed07bf1a2d1",
   "metadata": {},
   "outputs": [
    {
     "data": {
      "text/plain": [
       "{'Recommend.Other': 0.09090909,\n",
       " 'Recommend.All': 0.51212121,\n",
       " 'Recommend.MA': 0.93333333,\n",
       " 'RSI': 76.95418152,\n",
       " 'RSI[1]': 74.79953987,\n",
       " 'Stoch.K': 88.19684468,\n",
       " 'Stoch.D': 86.28809284,\n",
       " 'Stoch.K[1]': 88.17187864,\n",
       " 'Stoch.D[1]': 85.65816002,\n",
       " 'CCI20': 165.99823616,\n",
       " 'CCI20[1]': 157.48377518,\n",
       " 'ADX': 35.92447485,\n",
       " 'ADX+DI': 37.99815378,\n",
       " 'ADX-DI': 6.63140194,\n",
       " 'ADX+DI[1]': 33.77398265,\n",
       " 'ADX-DI[1]': 7.24518862,\n",
       " 'AO': 69.83631924,\n",
       " 'AO[1]': 65.03249556,\n",
       " 'Mom': 83.55,\n",
       " 'Mom[1]': 77.45001,\n",
       " 'MACD.macd': 24.22287717,\n",
       " 'MACD.signal': 16.70444551,\n",
       " 'Rec.Stoch.RSI': 0,\n",
       " 'Stoch.RSI.K': 100,\n",
       " 'Rec.WR': -1,\n",
       " 'W.R': -9.82925522,\n",
       " 'Rec.BBPower': 0,\n",
       " 'BBPower': 94.12444033,\n",
       " 'Rec.UO': 0,\n",
       " 'UO': 58.55503846,\n",
       " 'close': 789.3,\n",
       " 'EMA5': 771.25388818,\n",
       " 'SMA5': 769.899992,\n",
       " 'EMA10': 753.72358254,\n",
       " 'SMA10': 748.50499,\n",
       " 'EMA20': 731.93718812,\n",
       " 'SMA20': 723.907494,\n",
       " 'EMA30': 719.83782695,\n",
       " 'SMA30': 706.501661,\n",
       " 'EMA50': 706.19601672,\n",
       " 'SMA50': 699.5919934,\n",
       " 'EMA100': 687.42377032,\n",
       " 'SMA100': 682.8109962,\n",
       " 'EMA200': 672.66805888,\n",
       " 'SMA200': 650.7589979,\n",
       " 'Rec.Ichimoku': 0,\n",
       " 'Ichimoku.BLine': 732.17501,\n",
       " 'Rec.VWMA': 1,\n",
       " 'VWMA': 736.58060239,\n",
       " 'Rec.HullMA9': 1,\n",
       " 'HullMA9': 787.25332919,\n",
       " 'Pivot.M.Classic.S3': 551.38332333,\n",
       " 'Pivot.M.Classic.S2': 621.58333333,\n",
       " 'Pivot.M.Classic.S1': 663.66666667,\n",
       " 'Pivot.M.Classic.Middle': 691.78334333,\n",
       " 'Pivot.M.Classic.R1': 733.86667667,\n",
       " 'Pivot.M.Classic.R2': 761.98335333,\n",
       " 'Pivot.M.Classic.R3': 832.18336333,\n",
       " 'Pivot.M.Fibonacci.S3': 621.58333333,\n",
       " 'Pivot.M.Fibonacci.S2': 648.39973715,\n",
       " 'Pivot.M.Fibonacci.S1': 664.96693951,\n",
       " 'Pivot.M.Fibonacci.Middle': 691.78334333,\n",
       " 'Pivot.M.Fibonacci.R1': 718.59974715,\n",
       " 'Pivot.M.Fibonacci.R2': 735.16694951,\n",
       " 'Pivot.M.Fibonacci.R3': 761.98335333,\n",
       " 'Pivot.M.Camarilla.S3': 686.44499725,\n",
       " 'Pivot.M.Camarilla.S2': 692.87999817,\n",
       " 'Pivot.M.Camarilla.S1': 699.31499908,\n",
       " 'Pivot.M.Camarilla.Middle': 691.78334333,\n",
       " 'Pivot.M.Camarilla.R1': 712.18500092,\n",
       " 'Pivot.M.Camarilla.R2': 718.62000183,\n",
       " 'Pivot.M.Camarilla.R3': 725.05500275,\n",
       " 'Pivot.M.Woodie.S3': 604.699985,\n",
       " 'Pivot.M.Woodie.S2': 627.1999975,\n",
       " 'Pivot.M.Woodie.S1': 674.899995,\n",
       " 'Pivot.M.Woodie.Middle': 697.4000075,\n",
       " 'Pivot.M.Woodie.R1': 745.100005,\n",
       " 'Pivot.M.Woodie.R2': 767.6000175,\n",
       " 'Pivot.M.Woodie.R3': 815.300015,\n",
       " 'Pivot.M.Demark.S1': 677.725005,\n",
       " 'Pivot.M.Demark.Middle': 698.8125125,\n",
       " 'Pivot.M.Demark.R1': 747.925015,\n",
       " 'open': 799.95,\n",
       " 'P.SAR': 753.9967944,\n",
       " 'BB.lower': 660.33684982,\n",
       " 'BB.upper': 787.47813818,\n",
       " 'AO[2]': 60.40117403,\n",
       " 'volume': 2383550,\n",
       " 'change': 1.45896135,\n",
       " 'low': 785.5,\n",
       " 'high': 799.95}"
      ]
     },
     "execution_count": 4,
     "metadata": {},
     "output_type": "execute_result"
    }
   ],
   "source": [
    "nifty.get_indicators()"
   ]
  },
  {
   "cell_type": "code",
   "execution_count": 6,
   "id": "20b6ef6e-6e64-4b57-a4e1-8cdd8d0de5b3",
   "metadata": {},
   "outputs": [],
   "source": [
    "tata2 = TA_Handler(\n",
    "    symbol=\"TATASTEEL\",\n",
    "    screener=\"India\",\n",
    "    exchange=\"NSE\",\n",
    "    interval=Interval.INTERVAL_1_MONTH\n",
    ")"
   ]
  },
  {
   "cell_type": "code",
   "execution_count": 7,
   "id": "b1e64811-79a1-4fcb-9b86-e9009d33d993",
   "metadata": {},
   "outputs": [
    {
     "data": {
      "text/plain": [
       "{'RECOMMENDATION': 'STRONG_BUY', 'BUY': 16, 'SELL': 0, 'NEUTRAL': 10}"
      ]
     },
     "execution_count": 7,
     "metadata": {},
     "output_type": "execute_result"
    }
   ],
   "source": [
    "tata2.get_analysis().summary"
   ]
  },
  {
   "cell_type": "code",
   "execution_count": 8,
   "id": "8a6dab64-66a5-4711-8186-44344f66e4ef",
   "metadata": {},
   "outputs": [
    {
     "data": {
      "text/plain": [
       "{'Recommend.Other': 0.18181818,\n",
       " 'Recommend.All': 0.55757576,\n",
       " 'Recommend.MA': 0.93333333,\n",
       " 'RSI': 60.22275104,\n",
       " 'RSI[1]': 59.38037318,\n",
       " 'Stoch.K': 75.48946285,\n",
       " 'Stoch.D': 76.89688138,\n",
       " 'Stoch.K[1]': 74.97859527,\n",
       " 'Stoch.D[1]': 82.68131987,\n",
       " 'CCI20': 144.20158925,\n",
       " 'CCI20[1]': 98.29115001,\n",
       " 'ADX': 20.09927164,\n",
       " 'ADX+DI': 25.50614267,\n",
       " 'ADX-DI': 17.74874782,\n",
       " 'ADX+DI[1]': 25.03197278,\n",
       " 'ADX-DI[1]': 17.98982189,\n",
       " 'AO': 9.89213401,\n",
       " 'AO[1]': 9.38044282,\n",
       " 'Mom': 26.05,\n",
       " 'Mom[1]': 8.2,\n",
       " 'MACD.macd': 8.04060417,\n",
       " 'MACD.signal': 7.38535126,\n",
       " 'Rec.Stoch.RSI': 0,\n",
       " 'Stoch.RSI.K': 70.06444094,\n",
       " 'Rec.WR': 0,\n",
       " 'W.R': -13.71742225,\n",
       " 'Rec.BBPower': 0,\n",
       " 'BBPower': 20.70229354,\n",
       " 'Rec.UO': 0,\n",
       " 'UO': 60.5555642,\n",
       " 'close': 130,\n",
       " 'EMA5': 125.12010504,\n",
       " 'SMA5': 125.689998,\n",
       " 'EMA10': 120.71101724,\n",
       " 'SMA10': 118.184999,\n",
       " 'EMA20': 114.89878696,\n",
       " 'SMA20': 111.74099965,\n",
       " 'EMA30': 108.96498698,\n",
       " 'SMA30': 116.3493331,\n",
       " 'EMA50': 97.69687158,\n",
       " 'SMA50': 92.0788999,\n",
       " 'EMA100': 79.01803878,\n",
       " 'SMA100': 68.95142542,\n",
       " 'EMA200': 61.04252054,\n",
       " 'SMA200': 56.82307378,\n",
       " 'Rec.Ichimoku': 0,\n",
       " 'Ichimoku.BLine': 110.685,\n",
       " 'Rec.VWMA': 1,\n",
       " 'VWMA': 108.20615504,\n",
       " 'Rec.HullMA9': 1,\n",
       " 'HullMA9': 129.47073889,\n",
       " 'Pivot.M.Classic.S3': None,\n",
       " 'Pivot.M.Classic.S2': 55.37,\n",
       " 'Pivot.M.Classic.S1': 84.01,\n",
       " 'Pivot.M.Classic.Middle': 111.34,\n",
       " 'Pivot.M.Classic.R1': 139.98,\n",
       " 'Pivot.M.Classic.R2': 167.31,\n",
       " 'Pivot.M.Classic.R3': 223.28,\n",
       " 'Pivot.M.Fibonacci.S3': 55.37,\n",
       " 'Pivot.M.Fibonacci.S2': 76.75054,\n",
       " 'Pivot.M.Fibonacci.S1': 89.95946,\n",
       " 'Pivot.M.Fibonacci.Middle': 111.34,\n",
       " 'Pivot.M.Fibonacci.R1': 132.72054,\n",
       " 'Pivot.M.Fibonacci.R2': 145.92946,\n",
       " 'Pivot.M.Fibonacci.R3': 167.31,\n",
       " 'Pivot.M.Camarilla.S3': 97.25825,\n",
       " 'Pivot.M.Camarilla.S2': 102.38883333,\n",
       " 'Pivot.M.Camarilla.S1': 107.51941667,\n",
       " 'Pivot.M.Camarilla.Middle': 111.34,\n",
       " 'Pivot.M.Camarilla.R1': 117.78058333,\n",
       " 'Pivot.M.Camarilla.R2': 122.91116667,\n",
       " 'Pivot.M.Camarilla.R3': 128.04175,\n",
       " 'Pivot.M.Woodie.S3': 30.445,\n",
       " 'Pivot.M.Woodie.S2': 56.5725,\n",
       " 'Pivot.M.Woodie.S1': 86.415,\n",
       " 'Pivot.M.Woodie.Middle': 112.5425,\n",
       " 'Pivot.M.Woodie.R1': 142.385,\n",
       " 'Pivot.M.Woodie.R2': 168.5125,\n",
       " 'Pivot.M.Woodie.R3': 198.355,\n",
       " 'Pivot.M.Demark.S1': 97.675,\n",
       " 'Pivot.M.Demark.Middle': 118.1725,\n",
       " 'Pivot.M.Demark.R1': 153.645,\n",
       " 'open': 128.9,\n",
       " 'P.SAR': 94.22097678,\n",
       " 'BB.lower': 89.88194335,\n",
       " 'BB.upper': 133.60005595,\n",
       " 'AO[2]': 8.80338315,\n",
       " 'volume': 31192397,\n",
       " 'change': 1.64190774,\n",
       " 'low': 128.05,\n",
       " 'high': 130.3}"
      ]
     },
     "execution_count": 8,
     "metadata": {},
     "output_type": "execute_result"
    }
   ],
   "source": [
    "tata2.get_indicators()"
   ]
  },
  {
   "cell_type": "code",
   "execution_count": 10,
   "id": "13a8bfcf-78ce-4d41-8856-4e634851761a",
   "metadata": {},
   "outputs": [
    {
     "data": {
      "text/plain": [
       "{'RECOMMENDATION': 'STRONG_BUY', 'BUY': 18, 'SELL': 0, 'NEUTRAL': 8}"
      ]
     },
     "execution_count": 10,
     "metadata": {},
     "output_type": "execute_result"
    }
   ],
   "source": [
    "pfc = TA_Handler(\n",
    "    symbol=\"PFC\",\n",
    "    screener=\"India\",\n",
    "    exchange=\"NSE\",\n",
    "    interval=Interval.INTERVAL_1_DAY\n",
    ")\n",
    "pfc.get_analysis().summary"
   ]
  },
  {
   "cell_type": "code",
   "execution_count": 11,
   "id": "2c72b08e-1b19-4d36-b59d-f499e2d781b6",
   "metadata": {},
   "outputs": [
    {
     "data": {
      "text/plain": [
       "{'Recommend.Other': 0.36363636,\n",
       " 'Recommend.All': 0.64848485,\n",
       " 'Recommend.MA': 0.93333333,\n",
       " 'RSI': 86.01584628,\n",
       " 'RSI[1]': 79.88517772,\n",
       " 'Stoch.K': 95.94509852,\n",
       " 'Stoch.D': 92.63316356,\n",
       " 'Stoch.K[1]': 93.39112609,\n",
       " 'Stoch.D[1]': 89.22716039,\n",
       " 'CCI20': 157.35503953,\n",
       " 'CCI20[1]': 97.99046371,\n",
       " 'ADX': 52.86254837,\n",
       " 'ADX+DI': 49.65612296,\n",
       " 'ADX-DI': 5.65362631,\n",
       " 'ADX+DI[1]': 39.815331,\n",
       " 'ADX-DI[1]': 7.0331867,\n",
       " 'AO': 48.81896818,\n",
       " 'AO[1]': 45.32734967,\n",
       " 'Mom': 54.85,\n",
       " 'Mom[1]': 24.5,\n",
       " 'MACD.macd': 22.66577591,\n",
       " 'MACD.signal': 19.59532019,\n",
       " 'Rec.Stoch.RSI': 0,\n",
       " 'Stoch.RSI.K': 69.56128327,\n",
       " 'Rec.WR': 0,\n",
       " 'W.R': -4.13706475,\n",
       " 'Rec.BBPower': 0,\n",
       " 'BBPower': 63.85905894,\n",
       " 'Rec.UO': 1,\n",
       " 'UO': 72.20189995,\n",
       " 'close': 365.14999,\n",
       " 'EMA5': 339.00291175,\n",
       " 'SMA5': 332.729998,\n",
       " 'EMA10': 326.81521026,\n",
       " 'SMA10': 326.439999,\n",
       " 'EMA20': 308.56112405,\n",
       " 'SMA20': 305.19749739,\n",
       " 'EMA30': 295.12414638,\n",
       " 'SMA30': 284.50499826,\n",
       " 'EMA50': 275.91138762,\n",
       " 'SMA50': 268.4293972,\n",
       " 'EMA100': 243.64705391,\n",
       " 'SMA100': 237.78869876,\n",
       " 'EMA200': 204.02305831,\n",
       " 'SMA200': 187.4459493,\n",
       " 'Rec.Ichimoku': 0,\n",
       " 'Ichimoku.BLine': 296.925005,\n",
       " 'Rec.VWMA': 1,\n",
       " 'VWMA': 311.02237501,\n",
       " 'Rec.HullMA9': 1,\n",
       " 'HullMA9': 342.58703159,\n",
       " 'Pivot.M.Classic.S3': 102.86668667,\n",
       " 'Pivot.M.Classic.S2': 203.26667667,\n",
       " 'Pivot.M.Classic.S1': 269.08333333,\n",
       " 'Pivot.M.Classic.Middle': 303.66666667,\n",
       " 'Pivot.M.Classic.R1': 369.48332333,\n",
       " 'Pivot.M.Classic.R2': 404.06665667,\n",
       " 'Pivot.M.Classic.R3': 504.46664667,\n",
       " 'Pivot.M.Fibonacci.S3': 203.26667667,\n",
       " 'Pivot.M.Fibonacci.S2': 241.61947285,\n",
       " 'Pivot.M.Fibonacci.S1': 265.31387049,\n",
       " 'Pivot.M.Fibonacci.Middle': 303.66666667,\n",
       " 'Pivot.M.Fibonacci.R1': 342.01946285,\n",
       " 'Pivot.M.Fibonacci.R2': 365.71386049,\n",
       " 'Pivot.M.Fibonacci.R3': 404.06665667,\n",
       " 'Pivot.M.Camarilla.S3': 307.28999275,\n",
       " 'Pivot.M.Camarilla.S2': 316.49332517,\n",
       " 'Pivot.M.Camarilla.S1': 325.69665758,\n",
       " 'Pivot.M.Camarilla.Middle': 303.66666667,\n",
       " 'Pivot.M.Camarilla.R1': 344.10332242,\n",
       " 'Pivot.M.Camarilla.R2': 353.30665483,\n",
       " 'Pivot.M.Camarilla.R3': 362.50998725,\n",
       " 'Pivot.M.Woodie.S3': 189.400015,\n",
       " 'Pivot.M.Woodie.S2': 213.6250125,\n",
       " 'Pivot.M.Woodie.S1': 289.800005,\n",
       " 'Pivot.M.Woodie.Middle': 314.0250025,\n",
       " 'Pivot.M.Woodie.R1': 390.199995,\n",
       " 'Pivot.M.Woodie.R2': 414.4249925,\n",
       " 'Pivot.M.Woodie.R3': 490.599985,\n",
       " 'Pivot.M.Demark.S1': 286.375,\n",
       " 'Pivot.M.Demark.Middle': 312.3125,\n",
       " 'Pivot.M.Demark.R1': 386.77499,\n",
       " 'open': 340,\n",
       " 'P.SAR': 310.6979904,\n",
       " 'BB.lower': 250.30435221,\n",
       " 'BB.upper': 360.09064257,\n",
       " 'AO[2]': 45.37338038,\n",
       " 'volume': 51298211,\n",
       " 'change': 9.0325473,\n",
       " 'low': 337,\n",
       " 'high': 368.35001}"
      ]
     },
     "execution_count": 11,
     "metadata": {},
     "output_type": "execute_result"
    }
   ],
   "source": [
    "pfc.get_indicators()"
   ]
  },
  {
   "cell_type": "code",
   "execution_count": 12,
   "id": "725b617d-c2ff-4ab5-a8ff-1173723fbb2c",
   "metadata": {},
   "outputs": [
    {
     "data": {
      "text/plain": [
       "<tradingview_ta.main.Analysis at 0x104793890>"
      ]
     },
     "execution_count": 12,
     "metadata": {},
     "output_type": "execute_result"
    }
   ],
   "source": [
    "vedl = TA_Handler(\n",
    "    symbol=\"VEDL\",\n",
    "    screener=\"India\",\n",
    "    exchange=\"NSE\",\n",
    "    interval=Interval.INTERVAL_1_DAY\n",
    ")\n",
    "\n",
    "vedl.get_analysis()"
   ]
  },
  {
   "cell_type": "code",
   "execution_count": 13,
   "id": "bf760e58-c786-4938-a6c6-13bd7104206b",
   "metadata": {},
   "outputs": [
    {
     "data": {
      "text/plain": [
       "{'RECOMMENDATION': 'BUY', 'BUY': 13, 'SELL': 5, 'NEUTRAL': 8}"
      ]
     },
     "execution_count": 13,
     "metadata": {},
     "output_type": "execute_result"
    }
   ],
   "source": [
    "vedl.get_analysis().summary"
   ]
  },
  {
   "cell_type": "code",
   "execution_count": 15,
   "id": "a93d3688-32f2-4f8b-9789-651e79c1e153",
   "metadata": {},
   "outputs": [
    {
     "data": {
      "text/plain": [
       "{'RECOMMENDATION': 'NEUTRAL', 'BUY': 3, 'SELL': 4, 'NEUTRAL': 4}"
      ]
     },
     "execution_count": 15,
     "metadata": {},
     "output_type": "execute_result"
    }
   ],
   "source": [
    "tt = TA_Handler(\n",
    "    symbol=\"IREDA\",\n",
    "    screener=\"India\",\n",
    "    exchange=\"NSE\",\n",
    "    interval=Interval.INTERVAL_1_HOUR\n",
    ")\n",
    "\n",
    "tt.get_analysis().summary"
   ]
  },
  {
   "cell_type": "code",
   "execution_count": null,
   "id": "25a93308-27b0-4612-b1b7-aec0e8793641",
   "metadata": {},
   "outputs": [],
   "source": []
  }
 ],
 "metadata": {
  "kernelspec": {
   "display_name": "Python 3 (ipykernel)",
   "language": "python",
   "name": "python3"
  },
  "language_info": {
   "codemirror_mode": {
    "name": "ipython",
    "version": 3
   },
   "file_extension": ".py",
   "mimetype": "text/x-python",
   "name": "python",
   "nbconvert_exporter": "python",
   "pygments_lexer": "ipython3",
   "version": "3.11.4"
  }
 },
 "nbformat": 4,
 "nbformat_minor": 5
}
