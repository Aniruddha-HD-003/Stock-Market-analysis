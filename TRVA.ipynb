{
 "cells": [
  {
   "cell_type": "code",
   "execution_count": 1,
   "id": "0d067046-bbab-4926-840a-87cc036f55cd",
   "metadata": {},
   "outputs": [],
   "source": [
    "from tradingview_ta import TA_Handler, Interval, Exchange\n",
    "\n"
   ]
  },
  {
   "cell_type": "code",
   "execution_count": 2,
   "id": "b3114bc2-ee4a-454c-aa94-5fb4f4de301b",
   "metadata": {},
   "outputs": [
    {
     "name": "stdout",
     "output_type": "stream",
     "text": [
      "{'RECOMMENDATION': 'BUY', 'BUY': 14, 'SELL': 3, 'NEUTRAL': 9}\n"
     ]
    }
   ],
   "source": [
    "nifty = TA_Handler(\n",
    "    symbol=\"HUDCO\",\n",
    "    screener=\"India\",\n",
    "    exchange=\"NSE\",\n",
    "    interval=Interval.INTERVAL_1_WEEK\n",
    ")\n",
    "print(nifty.get_analysis().summary)"
   ]
  },
  {
   "cell_type": "code",
   "execution_count": 3,
   "id": "eb44dbf9-b4d0-4716-9340-aed07bf1a2d1",
   "metadata": {},
   "outputs": [
    {
     "data": {
      "text/plain": [
       "{'Recommend.Other': -0.09090909,\n",
       " 'Recommend.All': 0.35454545,\n",
       " 'Recommend.MA': 0.8,\n",
       " 'RSI': 68.06021953,\n",
       " 'RSI[1]': 78.48008224,\n",
       " 'Stoch.K': 76.14092748,\n",
       " 'Stoch.D': 72.46389228,\n",
       " 'Stoch.K[1]': 76.17701131,\n",
       " 'Stoch.D[1]': 65.42176685,\n",
       " 'CCI20': 192.51480481,\n",
       " 'CCI20[1]': 234.03217655,\n",
       " 'ADX': 41.91843673,\n",
       " 'ADX+DI': 42.44982203,\n",
       " 'ADX-DI': 10.21016679,\n",
       " 'ADX+DI[1]': 48.23865295,\n",
       " 'ADX-DI[1]': 11.6025149,\n",
       " 'AO': 21.31205751,\n",
       " 'AO[1]': 17.80823395,\n",
       " 'Mom': 11.549998,\n",
       " 'Mom[1]': 18.599998,\n",
       " 'MACD.macd': 9.25717336,\n",
       " 'MACD.signal': 7.77398311,\n",
       " 'Rec.Stoch.RSI': 0,\n",
       " 'Stoch.RSI.K': 66.16416211,\n",
       " 'Rec.WR': 0,\n",
       " 'W.R': -36.39143731,\n",
       " 'Rec.BBPower': 0,\n",
       " 'BBPower': 40.00645264,\n",
       " 'Rec.UO': 0,\n",
       " 'UO': 54.08651901,\n",
       " 'close': 101.7,\n",
       " 'EMA5': 96.35872255,\n",
       " 'SMA5': 94.1099998,\n",
       " 'EMA10': 90.35572815,\n",
       " 'SMA10': 86.1900004,\n",
       " 'EMA20': 82.94658148,\n",
       " 'SMA20': 83.0400007,\n",
       " 'EMA30': 77.27135283,\n",
       " 'SMA30': 75.26333357,\n",
       " 'EMA50': 69.1266162,\n",
       " 'SMA50': 64.33300024,\n",
       " 'EMA100': 58.61790257,\n",
       " 'SMA100': 51.47800009,\n",
       " 'EMA200': 53.11968173,\n",
       " 'SMA200': 44.96100011,\n",
       " 'Rec.Ichimoku': 0,\n",
       " 'Ichimoku.BLine': 88.225001,\n",
       " 'Rec.VWMA': 1,\n",
       " 'VWMA': 89.13374931,\n",
       " 'Rec.HullMA9': -1,\n",
       " 'HullMA9': 104.36740764,\n",
       " 'Pivot.M.Classic.S3': None,\n",
       " 'Pivot.M.Classic.S2': 18.933334,\n",
       " 'Pivot.M.Classic.S1': 35.516666,\n",
       " 'Pivot.M.Classic.Middle': 47.183332,\n",
       " 'Pivot.M.Classic.R1': 63.766664,\n",
       " 'Pivot.M.Classic.R2': 75.43333,\n",
       " 'Pivot.M.Classic.R3': 103.683328,\n",
       " 'Pivot.M.Fibonacci.S3': 18.933334,\n",
       " 'Pivot.M.Fibonacci.S2': 29.72483324,\n",
       " 'Pivot.M.Fibonacci.S1': 36.39183276,\n",
       " 'Pivot.M.Fibonacci.Middle': 47.183332,\n",
       " 'Pivot.M.Fibonacci.R1': 57.97483124,\n",
       " 'Pivot.M.Fibonacci.R2': 64.64183076,\n",
       " 'Pivot.M.Fibonacci.R3': 75.43333,\n",
       " 'Pivot.M.Camarilla.S3': 44.33124855,\n",
       " 'Pivot.M.Camarilla.S2': 46.9208317,\n",
       " 'Pivot.M.Camarilla.S1': 49.51041485,\n",
       " 'Pivot.M.Camarilla.Middle': 47.183332,\n",
       " 'Pivot.M.Camarilla.R1': 54.68958115,\n",
       " 'Pivot.M.Camarilla.R2': 57.2791643,\n",
       " 'Pivot.M.Camarilla.R3': 59.86874745,\n",
       " 'Pivot.M.Woodie.S3': 9.625003,\n",
       " 'Pivot.M.Woodie.S2': 20.1125015,\n",
       " 'Pivot.M.Woodie.S1': 37.875001,\n",
       " 'Pivot.M.Woodie.Middle': 48.3624995,\n",
       " 'Pivot.M.Woodie.R1': 66.124999,\n",
       " 'Pivot.M.Woodie.R2': 76.6124975,\n",
       " 'Pivot.M.Woodie.R3': 94.374997,\n",
       " 'Pivot.M.Demark.S1': 41.349999,\n",
       " 'Pivot.M.Demark.Middle': 50.0999985,\n",
       " 'Pivot.M.Demark.R1': 69.599997,\n",
       " 'open': 111.2,\n",
       " 'P.SAR': 72.92088004,\n",
       " 'BB.lower': 62.13142287,\n",
       " 'BB.upper': 103.94857853,\n",
       " 'AO[2]': 14.41308706,\n",
       " 'volume': 72623767,\n",
       " 'change': -8.17155756,\n",
       " 'low': 100.55,\n",
       " 'high': 115.15}"
      ]
     },
     "execution_count": 3,
     "metadata": {},
     "output_type": "execute_result"
    }
   ],
   "source": [
    "nifty.get_indicators()"
   ]
  },
  {
   "cell_type": "code",
   "execution_count": null,
   "id": "25a93308-27b0-4612-b1b7-aec0e8793641",
   "metadata": {},
   "outputs": [],
   "source": []
  }
 ],
 "metadata": {
  "kernelspec": {
   "display_name": "Python 3 (ipykernel)",
   "language": "python",
   "name": "python3"
  },
  "language_info": {
   "codemirror_mode": {
    "name": "ipython",
    "version": 3
   },
   "file_extension": ".py",
   "mimetype": "text/x-python",
   "name": "python",
   "nbconvert_exporter": "python",
   "pygments_lexer": "ipython3",
   "version": "3.11.4"
  }
 },
 "nbformat": 4,
 "nbformat_minor": 5
}
