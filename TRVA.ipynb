{
 "cells": [
  {
   "cell_type": "code",
   "execution_count": 1,
   "id": "0d067046-bbab-4926-840a-87cc036f55cd",
   "metadata": {},
   "outputs": [],
   "source": [
    "from tradingview_ta import TA_Handler, Interval, Exchange\n",
    "\n",
    "import numpy as np"
   ]
  },
  {
   "cell_type": "code",
   "execution_count": 2,
   "id": "b3114bc2-ee4a-454c-aa94-5fb4f4de301b",
   "metadata": {},
   "outputs": [
    {
     "name": "stdout",
     "output_type": "stream",
     "text": [
      "{'RECOMMENDATION': 'NEUTRAL', 'BUY': 9, 'SELL': 9, 'NEUTRAL': 8}\n"
     ]
    }
   ],
   "source": [
    "nifty = TA_Handler(\n",
    "    symbol=\"ADANIENSOL\",\n",
    "    screener=\"India\",\n",
    "    exchange=\"NSE\",\n",
    "    interval=Interval.INTERVAL_1_WEEK\n",
    ")\n",
    "print(nifty.get_analysis().summary)"
   ]
  },
  {
   "cell_type": "code",
   "execution_count": 3,
   "id": "eb44dbf9-b4d0-4716-9340-aed07bf1a2d1",
   "metadata": {},
   "outputs": [
    {
     "data": {
      "text/plain": [
       "{'Recommend.Other': -0.18181818,\n",
       " 'Recommend.All': -0.02424242,\n",
       " 'Recommend.MA': 0.13333333,\n",
       " 'RSI': 55.12966991,\n",
       " 'RSI[1]': 58.56817971,\n",
       " 'Stoch.K': 66.64583452,\n",
       " 'Stoch.D': 62.64902906,\n",
       " 'Stoch.K[1]': 68.93319201,\n",
       " 'Stoch.D[1]': 51.15852258,\n",
       " 'CCI20': 175.47911768,\n",
       " 'CCI20[1]': 251.05736983,\n",
       " 'ADX': 31.55715433,\n",
       " 'ADX+DI': 34.87978463,\n",
       " 'ADX-DI': 17.84693652,\n",
       " 'ADX+DI[1]': 38.16199421,\n",
       " 'ADX-DI[1]': 18.52363221,\n",
       " 'AO': 118.82720788,\n",
       " 'AO[1]': 59.18397315,\n",
       " 'Mom': 213.70001,\n",
       " 'Mom[1]': 241.25,\n",
       " 'MACD.macd': -20.1449124,\n",
       " 'MACD.signal': -75.80613647,\n",
       " 'Rec.Stoch.RSI': 0,\n",
       " 'Stoch.RSI.K': 83.27363363,\n",
       " 'Rec.WR': 0,\n",
       " 'W.R': -44.12499643,\n",
       " 'Rec.BBPower': -1,\n",
       " 'BBPower': 344.40559661,\n",
       " 'Rec.UO': 0,\n",
       " 'UO': 47.78544339,\n",
       " 'close': 998.90002,\n",
       " 'EMA5': 966.30434776,\n",
       " 'SMA5': 952.290002,\n",
       " 'EMA10': 905.97048949,\n",
       " 'SMA10': 856.54,\n",
       " 'EMA20': 884.50338378,\n",
       " 'SMA20': 844.4050005,\n",
       " 'EMA30': 944.22166598,\n",
       " 'SMA30': 824.595002,\n",
       " 'EMA50': 1136.68684847,\n",
       " 'SMA50': 974.2530014,\n",
       " 'EMA100': 1386.81384614,\n",
       " 'SMA100': 1869.7060057,\n",
       " 'EMA200': 1298.20981028,\n",
       " 'SMA200': 1349.627003,\n",
       " 'Rec.Ichimoku': 0,\n",
       " 'Ichimoku.BLine': 966,\n",
       " 'Rec.VWMA': 1,\n",
       " 'VWMA': 936.12911309,\n",
       " 'Rec.HullMA9': -1,\n",
       " 'HullMA9': 1101.89871096,\n",
       " 'Pivot.M.Classic.S3': None,\n",
       " 'Pivot.M.Classic.S2': 305.25,\n",
       " 'Pivot.M.Classic.S1': 1447.25,\n",
       " 'Pivot.M.Classic.Middle': 2842,\n",
       " 'Pivot.M.Classic.R1': 3984,\n",
       " 'Pivot.M.Classic.R2': 5378.75,\n",
       " 'Pivot.M.Classic.R3': 7915.5,\n",
       " 'Pivot.M.Fibonacci.S3': 305.25,\n",
       " 'Pivot.M.Fibonacci.S2': 1274.2885,\n",
       " 'Pivot.M.Fibonacci.S1': 1872.9615,\n",
       " 'Pivot.M.Fibonacci.Middle': 2842,\n",
       " 'Pivot.M.Fibonacci.R1': 3811.0385,\n",
       " 'Pivot.M.Fibonacci.R2': 4409.7115,\n",
       " 'Pivot.M.Fibonacci.R3': 5378.75,\n",
       " 'Pivot.M.Camarilla.S3': 1891.64375,\n",
       " 'Pivot.M.Camarilla.S2': 2124.17916667,\n",
       " 'Pivot.M.Camarilla.S1': 2356.71458333,\n",
       " 'Pivot.M.Camarilla.Middle': 2842,\n",
       " 'Pivot.M.Camarilla.R1': 2821.78541667,\n",
       " 'Pivot.M.Camarilla.R2': 3054.32083333,\n",
       " 'Pivot.M.Camarilla.R3': 3286.85625,\n",
       " 'Pivot.M.Woodie.S3': None,\n",
       " 'Pivot.M.Woodie.S2': 252.23755,\n",
       " 'Pivot.M.Woodie.S1': 1341.2251,\n",
       " 'Pivot.M.Woodie.Middle': 2788.98755,\n",
       " 'Pivot.M.Woodie.R1': 3877.9751,\n",
       " 'Pivot.M.Woodie.R2': 5325.73755,\n",
       " 'Pivot.M.Woodie.R3': 6414.7251,\n",
       " 'Pivot.M.Demark.S1': 2144.625,\n",
       " 'Pivot.M.Demark.Middle': 3190.6875,\n",
       " 'Pivot.M.Demark.R1': 4681.375,\n",
       " 'open': 1060,\n",
       " 'P.SAR': 734.86036517,\n",
       " 'BB.lower': 642.01843471,\n",
       " 'BB.upper': 1046.79156629,\n",
       " 'AO[2]': -2.69249915,\n",
       " 'volume': 10460202,\n",
       " 'change': -4.61685175,\n",
       " 'low': 993.79999,\n",
       " 'high': 1128}"
      ]
     },
     "execution_count": 3,
     "metadata": {},
     "output_type": "execute_result"
    }
   ],
   "source": [
    "nifty.get_indicators()"
   ]
  },
  {
   "cell_type": "code",
   "execution_count": null,
   "id": "25a93308-27b0-4612-b1b7-aec0e8793641",
   "metadata": {},
   "outputs": [],
   "source": []
  }
 ],
 "metadata": {
  "kernelspec": {
   "display_name": "Python 3 (ipykernel)",
   "language": "python",
   "name": "python3"
  },
  "language_info": {
   "codemirror_mode": {
    "name": "ipython",
    "version": 3
   },
   "file_extension": ".py",
   "mimetype": "text/x-python",
   "name": "python",
   "nbconvert_exporter": "python",
   "pygments_lexer": "ipython3",
   "version": "3.11.4"
  }
 },
 "nbformat": 4,
 "nbformat_minor": 5
}
